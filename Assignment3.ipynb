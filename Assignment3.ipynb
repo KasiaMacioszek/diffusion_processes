{
 "cells": [
  {
   "cell_type": "markdown",
   "id": "1b3d496a",
   "metadata": {},
   "source": [
    "## Assignment 3"
   ]
  },
  {
   "cell_type": "code",
   "execution_count": null,
   "id": "95b64d85",
   "metadata": {},
   "outputs": [],
   "source": [
    "import random\n",
    "import networkx as nx"
   ]
  },
  {
   "cell_type": "code",
   "execution_count": 1,
   "id": "b0a0bcd4",
   "metadata": {},
   "outputs": [],
   "source": [
    "class RandomGraph():\n",
    "    def __init__(self, nodes=2000):\n",
    "        self._num_of_nodes = nodes\n",
    "        self._edges = []\n",
    "        self._nodes = []\n",
    "        \n",
    "    def generate(self, p = 0.5):\n",
    "        g = nx.Graph()\n",
    "        self._nodes = list(range(1, self._num_of_nodes))\n",
    "        random.shuffle(self._nodes)\n",
    "        g.add_nodes_from(self._nodes)\n",
    "        for n1 in self._nodes:\n",
    "            for n2 in self._nodes:\n",
    "                if n1 != n2 and np.random.uniform(0, 1) < p:\n",
    "                    g.addEdge(n1, n2)\n",
    "        return g"
   ]
  },
  {
   "cell_type": "code",
   "execution_count": null,
   "id": "249a72cc",
   "metadata": {},
   "outputs": [],
   "source": [
    "class Watts_Strogatz_model():\n",
    "    def __init__(self, nodes=2000):\n",
    "        self._num_of_nodes = nodes\n",
    "        self._edges = []\n",
    "        self._nodes = []\n",
    "    \n",
    "    def generate(self):\n",
    "        g = nx.Graph()\n",
    "        self._nodes = list(range(1, self._num_of_nodes))"
   ]
  }
 ],
 "metadata": {
  "kernelspec": {
   "display_name": "Python 3 (ipykernel)",
   "language": "python",
   "name": "python3"
  },
  "language_info": {
   "codemirror_mode": {
    "name": "ipython",
    "version": 3
   },
   "file_extension": ".py",
   "mimetype": "text/x-python",
   "name": "python",
   "nbconvert_exporter": "python",
   "pygments_lexer": "ipython3",
   "version": "3.9.12"
  }
 },
 "nbformat": 4,
 "nbformat_minor": 5
}
