{
 "cells": [
  {
   "cell_type": "markdown",
   "id": "17a0650d",
   "metadata": {},
   "source": [
    "# Assignment 4"
   ]
  },
  {
   "cell_type": "markdown",
   "id": "2e0abc0a",
   "metadata": {},
   "source": [
    "## info\n",
    "\n",
    "https://www.blog.pythonlibrary.org/2021/06/23/creating-an-animated-gif-with-python/ - gif generation"
   ]
  },
  {
   "cell_type": "code",
   "execution_count": 2,
   "id": "e5af1ef9",
   "metadata": {},
   "outputs": [],
   "source": [
    "import random\n",
    "import math\n",
    "import glob\n",
    "from PIL import Image"
   ]
  },
  {
   "cell_type": "code",
   "execution_count": null,
   "id": "6e22ffc1",
   "metadata": {},
   "outputs": [],
   "source": [
    "def make_gif(frame_folder):\n",
    "    frames = [Image.open(image) for image in glob.glob(f\"{frame_folder}/*.JPG\")]\n",
    "    frame_one = frames[0]\n",
    "    frame_one.save(\"random_walk.gif\", format=\"GIF\", append_images=frames,\n",
    "               save_all=True, duration=100, loop=0)"
   ]
  },
  {
   "cell_type": "code",
   "execution_count": null,
   "id": "b3de6fc8",
   "metadata": {},
   "outputs": [],
   "source": [
    "def random_walk(lattice_size, num_of_steps):\n",
    "    \"\"\"\n",
    "    Function to generate a gif representing a random walk of an agent on a square lattice\n",
    "    \"\"\"\n",
    "    M = np.zeros((lattice_size, lattice_size))\n",
    "    choices = [1, 2, 3, 4]\n",
    "    starting_x, starting_y = (math.floor(lattice_size/2), math.floor(lattice_size/2))\n",
    "    M[starting_x, starting_y] = 1\n",
    "    for i in range(num_of_steps):\n",
    "        choice = random.choices(choices, weights=[0.25, 0.25, 0.25, 0.25], k=1)\n",
    "        if choice = 1:\n",
    "            M[starting_x+1, starting_y] = 1\n",
    "        elif choice = 2:\n",
    "            M[starting_x, starting_y+1] = 1\n",
    "        elif choice = 3:\n",
    "            M[starting_x-1, starting_y] = 1\n",
    "        elif choice = 4:\n",
    "            M[starting_x, starting_y-1] = 1\n",
    "        heatmap = plt.imshow(a)\n",
    "        plt.savefig(heatmap, f'images/{i}.jpg')\n",
    "    make_gif(frame_folder)"
   ]
  }
 ],
 "metadata": {
  "kernelspec": {
   "display_name": "Python 3 (ipykernel)",
   "language": "python",
   "name": "python3"
  },
  "language_info": {
   "codemirror_mode": {
    "name": "ipython",
    "version": 3
   },
   "file_extension": ".py",
   "mimetype": "text/x-python",
   "name": "python",
   "nbconvert_exporter": "python",
   "pygments_lexer": "ipython3",
   "version": "3.9.12"
  }
 },
 "nbformat": 4,
 "nbformat_minor": 5
}
