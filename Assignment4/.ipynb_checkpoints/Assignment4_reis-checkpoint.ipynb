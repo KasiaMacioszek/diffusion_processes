{
 "cells": [
  {
   "cell_type": "markdown",
   "id": "67a361e2",
   "metadata": {
    "slideshow": {
     "slide_type": "slide"
    }
   },
   "source": [
    "## Assignment 4\n",
    "\n",
    "##### Katarzyna Macioszek"
   ]
  },
  {
   "cell_type": "markdown",
   "id": "4216733f",
   "metadata": {
    "slideshow": {
     "slide_type": "slide"
    }
   },
   "source": [
    "## Simulation of a random walk for N = 100 steps\n",
    "\n",
    "<img src=\"random_walk.gif\" style=\"width:800px;height:400px\"/>"
   ]
  },
  {
   "cell_type": "markdown",
   "id": "d73530e1",
   "metadata": {
    "slideshow": {
     "slide_type": "slide"
    }
   },
   "source": [
    "## Pearson's random walk for N = 1000 steps\n",
    "\n",
    "<img src=\"pearson.png\" style=\"width:800px;height:400px\"/>"
   ]
  },
  {
   "cell_type": "markdown",
   "id": "a4fc5ae4",
   "metadata": {
    "slideshow": {
     "slide_type": "slide"
    }
   },
   "source": [
    "## Analysis of pearson's random walk"
   ]
  },
  {
   "cell_type": "markdown",
   "id": "47e67fd9",
   "metadata": {
    "slideshow": {
     "slide_type": "subslide"
    }
   },
   "source": [
    "<table><tr>\n",
    "    <td> <img src=\"histAn.png\" style=\"width:400px;height:300px\"/> </td>\n",
    "    <td> <img src=\"histBn.png\" style=\"width:400px;height:300px\"/> </td>\n",
    "</tr></table>"
   ]
  },
  {
   "cell_type": "markdown",
   "id": "e24e9fb0",
   "metadata": {
    "slideshow": {
     "slide_type": "slide"
    }
   },
   "source": [
    "## Random Walk on a graph with N=20 nodes"
   ]
  },
  {
   "cell_type": "markdown",
   "id": "f3ce6771",
   "metadata": {
    "slideshow": {
     "slide_type": "slide"
    }
   },
   "source": [
    "## Complete graph\n",
    "<img src=\"random_walk_graph.gif\" style=\"width:800px;height:400px\"/>"
   ]
  },
  {
   "cell_type": "markdown",
   "id": "84296cdf",
   "metadata": {
    "slideshow": {
     "slide_type": "slide"
    }
   },
   "source": [
    "## Random graph with p=0.5\n",
    "\n",
    "<img src=\"rg_rw.gif\" style=\"width:800px;height:400px\"/>"
   ]
  },
  {
   "cell_type": "markdown",
   "id": "098ef989",
   "metadata": {
    "slideshow": {
     "slide_type": "slide"
    }
   },
   "source": [
    "## Watts-Strogatz Model with p=0.7 and k=8\n",
    "\n",
    "<img src=\"wsm_rw.gif\" style=\"width:800px;height:400px\"/>"
   ]
  },
  {
   "cell_type": "markdown",
   "id": "1c4864d7",
   "metadata": {
    "slideshow": {
     "slide_type": "slide"
    }
   },
   "source": [
    "## Barabassi-Albert Model with p=0.7 and k=8\n",
    "\n",
    "<img src=\"bam_gif.gif\" style=\"width:800px;height:400px\"/>"
   ]
  },
  {
   "cell_type": "markdown",
   "id": "31cc3344",
   "metadata": {
    "slideshow": {
     "slide_type": "slide"
    }
   },
   "source": [
    "## Average hitting time"
   ]
  },
  {
   "cell_type": "code",
   "execution_count": null,
   "id": "e9467e5d",
   "metadata": {},
   "outputs": [],
   "source": []
  }
 ],
 "metadata": {
  "celltoolbar": "Slideshow",
  "kernelspec": {
   "display_name": "Python 3 (ipykernel)",
   "language": "python",
   "name": "python3"
  },
  "language_info": {
   "codemirror_mode": {
    "name": "ipython",
    "version": 3
   },
   "file_extension": ".py",
   "mimetype": "text/x-python",
   "name": "python",
   "nbconvert_exporter": "python",
   "pygments_lexer": "ipython3",
   "version": "3.11.3"
  }
 },
 "nbformat": 4,
 "nbformat_minor": 5
}
