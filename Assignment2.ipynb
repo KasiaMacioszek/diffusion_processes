{
 "cells": [
  {
   "cell_type": "markdown",
   "id": "fddc6651",
   "metadata": {},
   "source": [
    "## Assignment 2"
   ]
  },
  {
   "cell_type": "code",
   "execution_count": 95,
   "id": "632ea43e",
   "metadata": {},
   "outputs": [],
   "source": [
    "class Vertex():\n",
    "    def __init__(self, fromVert, toVert, weight=1):\n",
    "        self._fromVert = fromVert\n",
    "        self._toVert = toVert\n",
    "        self._weight = weight\n",
    "        \n",
    "    def __repr__(self):\n",
    "        nodeList = [self._fromVert, self._toVert, self._weight]\n",
    "        return '{}\\n'.format(str(nodeList))\n",
    "        \n",
    "    def includes(self, vertKey):\n",
    "        return True if self._fromVert == vertKey or self._toVert == vertKey else False\n",
    "    \n",
    "    def getDotRepr(self):\n",
    "        return '{fVert} -- {tVert}'.format(fVert=self._fromVert, tVert=self._toVert)"
   ]
  },
  {
   "cell_type": "code",
   "execution_count": 138,
   "id": "a098e462",
   "metadata": {},
   "outputs": [],
   "source": [
    "class Graph():\n",
    "    def __init__(self, nodes=[]):\n",
    "        self._nodes = set(nodes)\n",
    "        self._edges = []\n",
    "        \n",
    "    def __contains__(self, vertKey):\n",
    "        for node in self._nodes:\n",
    "            if node == vertKey:\n",
    "                return True\n",
    "        return False\n",
    "    \n",
    "    def addVertex(self, node):\n",
    "        _nodes.append(node)\n",
    "    \n",
    "    def addVerticesFromList(self, vertList):\n",
    "        _nodes.append(vert for vert in vertList)\n",
    "    \n",
    "    def addEdge(self, fromVert, toVert):\n",
    "        self._nodes.add(fromVert)\n",
    "        self._nodes.add(toVert)\n",
    "        self._edges.append(Vertex(fromVert, toVert, 1))\n",
    "        \n",
    "    def addWeightedEdge(self, fromVert, toVert, weight):\n",
    "        self._nodes.add(fromVert)\n",
    "        self._nodes.add(toVert)\n",
    "        self._edges.append(Vertex(fromVert, toVert, 1))\n",
    "    \n",
    "    def addEdgesFromList(self, edgeList):\n",
    "        self._edges.append(edge for edge in edgeList)\n",
    "        \n",
    "    def getVertices(self):\n",
    "        return self._nodes\n",
    "    \n",
    "    def getEdges(self):\n",
    "        return self._edges\n",
    "    \n",
    "    def getNeighbors(self, vertKey):\n",
    "        num_of_neighbors = 0\n",
    "        for edge in self._edges:\n",
    "            if edge.includes(vertKey):\n",
    "                num_of_neighbors += 1\n",
    "        return num_of_neighbors\n",
    "\n",
    "    def saveGraph(self, name='example_graph'):\n",
    "        lines = 'graph {n} {{ \\n'.format(n=name)\n",
    "        for edge in self._edges:\n",
    "            lines += '\\t{dotEdge}\\n'.format(dotEdge=edge.getDotRepr())\n",
    "        lines += ('}')\n",
    "        return lines\n"
   ]
  },
  {
   "cell_type": "code",
   "execution_count": 139,
   "id": "ef2f3777",
   "metadata": {},
   "outputs": [],
   "source": [
    "g = Graph()"
   ]
  },
  {
   "cell_type": "code",
   "execution_count": 140,
   "id": "d564e352",
   "metadata": {},
   "outputs": [],
   "source": [
    "g.addEdge('Alice', 'Bob')\n",
    "g.addEdge('Carl', 'Alice')\n",
    "g.addEdge('Alice', 'David')\n",
    "g.addEdge('Alice', 'Frank')\n",
    "g.addEdge('Alice', 'Ernst')\n",
    "g.addEdge('Bob', 'Gail')\n",
    "g.addEdge('Gail', 'Harry')\n",
    "g.addEdge('Harry', 'Jen')\n",
    "g.addEdge('Jen', 'Gail')\n",
    "g.addEdge('Harry', 'Irene')\n",
    "g.addEdge('Irene', 'Gail')\n",
    "g.addEdge('Irene', 'Jen')\n",
    "g.addEdge('Ernst', 'Frank')\n",
    "g.addEdge('David', 'Carl')\n",
    "g.addEdge('Carl', 'Frank')"
   ]
  },
  {
   "cell_type": "code",
   "execution_count": 141,
   "id": "3897628e",
   "metadata": {},
   "outputs": [
    {
     "name": "stdout",
     "output_type": "stream",
     "text": [
      "{'Jen', 'Carl', 'Ernst', 'David', 'Harry', 'Irene', 'Gail', 'Bob', 'Alice', 'Frank'}\n"
     ]
    }
   ],
   "source": [
    "print(g.getVertices())"
   ]
  },
  {
   "cell_type": "code",
   "execution_count": 142,
   "id": "49ba1468",
   "metadata": {},
   "outputs": [
    {
     "name": "stdout",
     "output_type": "stream",
     "text": [
      "[['Alice', 'Bob', 1]\n",
      ", ['Carl', 'Alice', 1]\n",
      ", ['Alice', 'David', 1]\n",
      ", ['Alice', 'Frank', 1]\n",
      ", ['Alice', 'Ernst', 1]\n",
      ", ['Bob', 'Gail', 1]\n",
      ", ['Gail', 'Harry', 1]\n",
      ", ['Harry', 'Jen', 1]\n",
      ", ['Jen', 'Gail', 1]\n",
      ", ['Harry', 'Irene', 1]\n",
      ", ['Irene', 'Gail', 1]\n",
      ", ['Irene', 'Jen', 1]\n",
      ", ['Ernst', 'Frank', 1]\n",
      ", ['David', 'Carl', 1]\n",
      ", ['Carl', 'Frank', 1]\n",
      "]\n"
     ]
    }
   ],
   "source": [
    "print(g.getEdges())"
   ]
  },
  {
   "cell_type": "code",
   "execution_count": 143,
   "id": "2736072f",
   "metadata": {},
   "outputs": [
    {
     "name": "stdout",
     "output_type": "stream",
     "text": [
      "graph example_graph { \n",
      "\tAlice -- Bob\n",
      "\tCarl -- Alice\n",
      "\tAlice -- David\n",
      "\tAlice -- Frank\n",
      "\tAlice -- Ernst\n",
      "\tBob -- Gail\n",
      "\tGail -- Harry\n",
      "\tHarry -- Jen\n",
      "\tJen -- Gail\n",
      "\tHarry -- Irene\n",
      "\tIrene -- Gail\n",
      "\tIrene -- Jen\n",
      "\tErnst -- Frank\n",
      "\tDavid -- Carl\n",
      "\tCarl -- Frank\n",
      "}\n"
     ]
    }
   ],
   "source": [
    "print(g.saveGraph())"
   ]
  },
  {
   "cell_type": "code",
   "execution_count": null,
   "id": "a06e4541",
   "metadata": {},
   "outputs": [],
   "source": []
  }
 ],
 "metadata": {
  "kernelspec": {
   "display_name": "Python 3",
   "language": "python",
   "name": "python3"
  },
  "language_info": {
   "codemirror_mode": {
    "name": "ipython",
    "version": 3
   },
   "file_extension": ".py",
   "mimetype": "text/x-python",
   "name": "python",
   "nbconvert_exporter": "python",
   "pygments_lexer": "ipython3",
   "version": "3.9.5"
  }
 },
 "nbformat": 4,
 "nbformat_minor": 5
}
