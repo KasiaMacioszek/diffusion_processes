{
 "cells": [
  {
   "cell_type": "markdown",
   "id": "12a94628",
   "metadata": {},
   "source": [
    "## Diffusion Processes on Complex Networks - Lab\n",
    "### Assignment 1\n"
   ]
  },
  {
   "cell_type": "markdown",
   "id": "8744b711",
   "metadata": {},
   "source": [
    "#### Excercise 1"
   ]
  },
  {
   "cell_type": "markdown",
   "id": "71aadddf",
   "metadata": {},
   "source": [
    "Results presented on paper. Additionaly scans of solutions were added to the repository."
   ]
  },
  {
   "cell_type": "markdown",
   "id": "beadaa2c",
   "metadata": {},
   "source": [
    "#### Excercise 2"
   ]
  },
  {
   "cell_type": "markdown",
   "id": "dd6a44e4",
   "metadata": {},
   "source": [
    "b) network visualization"
   ]
  },
  {
   "attachments": {
    "graph_rep-2.svg": {
     "image/svg+xml": [
      "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"
     ]
    }
   },
   "cell_type": "markdown",
   "id": "c2425067",
   "metadata": {},
   "source": [
    "\n",
    "<div>\n",
    "<img src=\"attachment:graph_rep-2.svg\" width=\"400\">\n"
   ]
  },
  {
   "cell_type": "markdown",
   "id": "74b61a0b",
   "metadata": {},
   "source": [
    "c) basic measures"
   ]
  },
  {
   "cell_type": "markdown",
   "id": "cab9abb5",
   "metadata": {},
   "source": [
    "* Nodes: 10\n",
    "* Edges: 15\n",
    "* Density: 0,333\n",
    "* Average degree: 3\n",
    "* Average Clustering Coefficient: 0,713\n",
    "* Other statistics are presented in additional report files generated by gephi (all files are in Assignment1\\reports)"
   ]
  },
  {
   "cell_type": "markdown",
   "id": "0c644fe2",
   "metadata": {},
   "source": [
    "#### Excercise 3"
   ]
  },
  {
   "cell_type": "markdown",
   "id": "f0ca340b",
   "metadata": {},
   "source": [
    "1. $k = A \\cdot e$ - When multiplying adjacency matrix with e, i-th element of k is a sum of all elements in i-th row of a, which gives us number of connections that i-th node has (degree of i-th node). \n",
    "2. $L = \\frac{1}{2}|k^T e|$ - If we want to calculate all links we can add degrees of all nodes and divide that number by 2. As degrees describe number of edges arriving or departing of a node, we can sum them and get the number of all arrivals and departures in the graph. That number divided by two gives us the number of links. Sum of all degrees is a sum of all elements in k, which can be calculated by transposing matrix k and then multiplying it by e. That gives us a matrix with one element; when we get it's determinant and divide it by two, we get the number of links.\n",
    "3. $N = A^2$ - When trying to find common neighbours of nodes i and j the easiest approach would be $N = \\sum_{k = 1}^N a_{ik}a_{kj}$ which gives us the result. As sum sumbol is not allowed we can recall that if we multiply matrix $A$ by matrix $B$, each element of resulting matrix $C$ is defined as $c_{ij} = \\sum_{k = 1}^N a_{ik}b_{kj}$, so in our case we get $A^2$\n",
    "4. $T = trace(\\frac{A^3}{6})$ - Trianles in the network could be described as \"double\" common connections. In that case we can use the approach from point 3 but instead of calculating $A^2$ we have to use $A^3$. Then on the diagonal we have number of triangles, but we need to remember that every triangle is added more than one time. In a adjacency matrix we can represent a triangle in $3!$ possible ways. That's why we have to devide the trace of obtained matrix by $3! = 6$\n",
    "5. The graph is fully connected iff $a_{ij} = 1$ for all $i, j \\leq N, i\\neq j$ - As the connection between nodes i and j is represented by $a_{ij} = a_{ji} = 1$ if all nodes would be connected all matrix elements should be equal to 1. Additionally we know that there are no looping connections so $\\forall_{i \\leq N} a_{ii} = 0$."
   ]
  }
 ],
 "metadata": {
  "kernelspec": {
   "display_name": "Python 3",
   "language": "python",
   "name": "python3"
  },
  "language_info": {
   "codemirror_mode": {
    "name": "ipython",
    "version": 3
   },
   "file_extension": ".py",
   "mimetype": "text/x-python",
   "name": "python",
   "nbconvert_exporter": "python",
   "pygments_lexer": "ipython3",
   "version": "3.9.5"
  }
 },
 "nbformat": 4,
 "nbformat_minor": 5
}
