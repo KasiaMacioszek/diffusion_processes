{
 "cells": [
  {
   "cell_type": "markdown",
   "id": "fddc6651",
   "metadata": {},
   "source": [
    "## Assignment 2"
   ]
  },
  {
   "cell_type": "markdown",
   "id": "621ddfae",
   "metadata": {},
   "source": [
    "#### Implementation of needed classes and helpers"
   ]
  },
  {
   "cell_type": "markdown",
   "id": "f991a55e",
   "metadata": {},
   "source": [
    "For the Graph class I used two additional classes: Node (Vertex) and Edge\n",
    "\n",
    "Node class represents every vertex using two parameters: label and key. Label can have Any type the user needs, but key needs to be an integer that is unique in the graph. Additionally there are some getter methods and overloaded operators, to make the usage of Node class easier.\n",
    "\n",
    "Edge class represents an Edge in graph using two vertices (fromVert and toVert). In our graph implementation we don't use the direction of a node, but it can be determined. Additionally there are some methods that are useful in the graph class implementation. Because of that we have a function that checks if a Node is in Edge, one that returns the second Node from the Edge and lastly, we have a dot representation of an Edge.\n",
    "\n",
    "Graph class contains methods described in assignment plus some helpers, that provide clearer code. Every function (that is not an operator overload) is described using docstrings (\"\"\"...\"\"\") with taken parameters and output description. Additionally I tried to visualize most of the unconventional behaviors in the execution part of code."
   ]
  },
  {
   "cell_type": "code",
   "execution_count": 2,
   "id": "33a04a52",
   "metadata": {},
   "outputs": [],
   "source": [
    "#helpers\n",
    "def MAX(sets):\n",
    "    \"\"\"\n",
    "    Function takes sets (set or list) as argument and returns 0 if it's empty or maximum value from the set otherwise\n",
    "    \"\"\"\n",
    "    return 0 if len(sets)==0 else max(sets)"
   ]
  },
  {
   "cell_type": "code",
   "execution_count": 3,
   "id": "da192d05",
   "metadata": {},
   "outputs": [],
   "source": [
    "class Node():\n",
    "    def __init__(self, label, key):\n",
    "        \"\"\"\n",
    "        Initialization of class Node with two arguments: label (with any type) and key (int) \n",
    "        \"\"\"\n",
    "        if not isinstance(key, int):\n",
    "            raise Exception(f\"Node key must be an intiger! Please provide value different than {key}\")\n",
    "        self._key = key\n",
    "        self._label = label\n",
    "   \n",
    "    def __eq__(self, n):\n",
    "        if self._key == n._key and self._label == n._label:\n",
    "            return True\n",
    "        else:\n",
    "            return False\n",
    "    \n",
    "    def __hash__(self):\n",
    "        return hash(self._key)\n",
    "        \n",
    "    def __repr__(self):\n",
    "        return self._label\n",
    "    \n",
    "    def to_str(self):\n",
    "        \"\"\"\n",
    "        Additional function to get full node representation, with given key to str\" \n",
    "        \"\"\"\n",
    "        return f\"{self._label}, {str(self._key)}\"\n",
    "    \n",
    "    def getKey(self):\n",
    "        \"\"\"\n",
    "        Getter function for node's key\n",
    "        \"\"\"\n",
    "        return self._key\n",
    "    \n",
    "    def getLabel(self):\n",
    "        \"\"\"\n",
    "        Getter function for node's label\n",
    "        \"\"\"\n",
    "        return self._label"
   ]
  },
  {
   "cell_type": "code",
   "execution_count": 4,
   "id": "632ea43e",
   "metadata": {},
   "outputs": [],
   "source": [
    "class Edge():\n",
    "    def __init__(self, fromVert, toVert, weight=1):\n",
    "        \"\"\"\n",
    "        Initialization of class Edge with three arguments:\n",
    "        fromVert - Node object representing the begginning of edge \n",
    "        toVert - Node object representing the begginning of edge\n",
    "        \"\"\"\n",
    "        self._fromVert = fromVert\n",
    "        self._toVert = toVert\n",
    "        self._weight = weight\n",
    "        \n",
    "    def __repr__(self):\n",
    "        nodeList = [self._fromVert, self._toVert, self._weight]\n",
    "        return '{}\\n'.format(str(nodeList))\n",
    "        \n",
    "    def includes(self, vertKey):\n",
    "        \"\"\"\n",
    "        Function with bool return type to check if vertex with given vertKey (int) is a part of edge\n",
    "        \"\"\"\n",
    "        return True if self._fromVert.getKey() == vertKey or self._toVert.getKey() == vertKey else False\n",
    "    \n",
    "    def returnSecondVert(self, vertKey):\n",
    "        \"\"\"\n",
    "        Returns the second vertex in edge with given vertKey (int)\n",
    "        \"\"\"\n",
    "        if self.includes(vertKey):\n",
    "            if self._fromVert.getKey() == vertKey:\n",
    "                return self._toVert\n",
    "            else:\n",
    "                return self._fromVert\n",
    "        return None\n",
    "    \n",
    "    def getDotRepr(self):\n",
    "        \"\"\"\n",
    "        Returns string with dot representation of an edge\n",
    "        \"\"\"\n",
    "        if self._weight == 1:\n",
    "            return '\"{fVert}\" -- \"{tVert}\"'.format(fVert=self._fromVert.to_str(), tVert=self._toVert.to_str())\n",
    "        else:\n",
    "            return '\"{fVert}\" -- \"{tVert}\" [label={weight}]'.format(fVert=self._fromVert.to_str(), tVert=self._toVert.to_str(), weight=self._weight)"
   ]
  },
  {
   "cell_type": "code",
   "execution_count": 56,
   "id": "a098e462",
   "metadata": {},
   "outputs": [],
   "source": [
    "class Graph():\n",
    "    def __init__(self, nodes=[]):\n",
    "        \"\"\"\n",
    "        Initialization of graph class. List of nodes can be given as argument\n",
    "        Every node is added to a set. If it's given not as a Node, a new node with new key is added\n",
    "        \"\"\"\n",
    "        self._edges = []\n",
    "        self._nodes = set()\n",
    "        self._keys = set()\n",
    "        for node in nodes:\n",
    "            if isinstance(node, Node):\n",
    "                if node.getKey() in self._keys:\n",
    "                    self.checkKey(node)\n",
    "                self._nodes.add(node)\n",
    "                self._keys.add(node.getKey())\n",
    "            else:\n",
    "                new_key = MAX(self._keys)+1\n",
    "                self._nodes.add(Node(node, new_key))\n",
    "                self._keys.add(new_key)\n",
    "        \n",
    "    def __contains__(self, vertKey):\n",
    "        return True if vertKey in self._keys else False\n",
    "\n",
    "    def __str__(self):\n",
    "        lines = 'graph new_graph { \\n'\n",
    "        for edge in self._edges:\n",
    "            lines += '\\t{dotEdge}\\n'.format(dotEdge=edge.getDotRepr())\n",
    "        lines += ('}')\n",
    "        return lines\n",
    "    \n",
    "    def checkKey(self, vertex):\n",
    "        \"\"\"\n",
    "        Helper function to throw an error if the user tries to add second Node with already existing key but different name\n",
    "        \"\"\"\n",
    "        for node in self._nodes:\n",
    "            if vertex.getKey() == node.getKey():\n",
    "                if vertex.getLabel() != node.getLabel():\n",
    "                    raise Exception(f\"Node with given key: {str(vertex.getKey())} has different label equal to: {node.getLabel()} not {vertex.getLabel()}\")\n",
    "\n",
    "    def findVertexByKey(self, key):\n",
    "        \"\"\"\n",
    "        Function returns the node with given key (int) or none if there's no node with that key\n",
    "        \"\"\"\n",
    "        for node in self._nodes:\n",
    "            if key == node.getKey():\n",
    "                return node\n",
    "        return None\n",
    "    \n",
    "    def findVertexByLabel(self, label):\n",
    "        \"\"\"\n",
    "        Function returns the node with given label (any type) or none if there's no node with that label\n",
    "        \"\"\"\n",
    "        for node in self._nodes:\n",
    "            if label == node.getLabel():\n",
    "                return node\n",
    "        return None\n",
    "    \n",
    "    def addVertex(self, node):\n",
    "        \"\"\"\n",
    "        Function adds new vertex to the graph. Every node can be given as Node object or any other type (then new key is assigned)\n",
    "        \"\"\"\n",
    "        if isinstance(node, Node):\n",
    "            if node.getKey() in self._keys:\n",
    "                self.checkKey(node)\n",
    "            self._nodes.add(node)\n",
    "            self._keys.add(node.getKey())\n",
    "        else:\n",
    "            new_key = MAX(self._keys)+1\n",
    "            self._nodes.add(Node(node, new_key))\n",
    "            self._keys.add(new_key)\n",
    "    \n",
    "    def addVerticesFromList(self, vertList):\n",
    "        \"\"\"\n",
    "        Function adds nodes from list (works just like addVertex())\n",
    "        \"\"\"\n",
    "        for vert in vertList:\n",
    "            self.addVertex(vert)\n",
    "    \n",
    "    def addEdge(self, fromVert, toVert, weight=1):\n",
    "        \"\"\"\n",
    "        Function adds new Edge for given vertices (fromEdge, toEdge)\n",
    "        also adds given Vertices to node list.\n",
    "        \"\"\"\n",
    "        if not isinstance(fromVert, Node):\n",
    "            fromVert = Node(fromVert, MAX(self._keys)+1)\n",
    "        if not isinstance(toVert, Node):\n",
    "            toVert = Node(toVert, MAX(self._keys)+1)\n",
    "        self.addVerticesFromList([fromVert, toVert])\n",
    "        self._edges.append(Edge(fromVert, toVert, weight))\n",
    "    \n",
    "    def addEdgesFromList(self, edgeList):\n",
    "        \"\"\"\n",
    "        Function adds new Edges for given list of edges. They must be given as a list of objects of class Edge\n",
    "        \"\"\"\n",
    "        for edge in edgeList:\n",
    "            if isinstance(edge, Edge):\n",
    "                self._edges.append(edge)\n",
    "            else:\n",
    "                raise Exception(\"edgeList must be a list of Edge objects if you want to add edge by nodes use addEdge()\")\n",
    "                \n",
    "    def getVertices(self):\n",
    "        \"\"\"\n",
    "        Returns list of nodes\n",
    "        \"\"\"\n",
    "        return self._nodes\n",
    "    \n",
    "    def getEdges(self):\n",
    "        \"\"\"\n",
    "        Returns list of edges\n",
    "        \"\"\"\n",
    "        return self._edges\n",
    "\n",
    "    def getNeighbors(self, vertKey):\n",
    "        \"\"\"\n",
    "        Returns list of neighbors of the node, for the given vertKey (int)\n",
    "        \"\"\"\n",
    "        if vertKey not in self._keys:\n",
    "            raise Exception(f\"Node {vertKey} doesn't exist\")\n",
    "        neighbors = []\n",
    "        for edge in self._edges:\n",
    "            if edge.returnSecondVert(vertKey) is not None:\n",
    "                neighbors.append(edge.returnSecondVert(vertKey))\n",
    "        return neighbors\n",
    "\n",
    "    def saveGraph(self, name='example_graph'):\n",
    "        \"\"\"\n",
    "        Saves graph to a txt file with dot representation. Name can be provided as an argument\n",
    "        \"\"\"\n",
    "        lines = 'graph {n} {{ \\n'.format(n=name)\n",
    "        for edge in self._edges:\n",
    "            lines += '\\t{dotEdge}\\n'.format(dotEdge=edge.getDotRepr())\n",
    "        lines += ('}')\n",
    "        txt_file = open(f\"{name}.txt\", \"w\")\n",
    "        n = txt_file.write(lines)\n",
    "        txt_file.close()\n",
    "        return lines\n",
    "\n",
    "    def getShortestPathDict(self, fromVert):\n",
    "        \"\"\"\n",
    "        Returns dictionary with lengths from fromVert to every other node.\n",
    "        As a helper function it takes only fromVert as a Node object\n",
    "        \"\"\"\n",
    "        if isinstance(fromVert, Node):\n",
    "            self.checkKey(fromVert)\n",
    "            iterator = 1\n",
    "            nodeDict = {fromVert:iterator-1}\n",
    "            nextStepNodes = self.getNeighbors(fromVert.getKey())\n",
    "            for node in nextStepNodes:\n",
    "                nodeDict[node] = iterator\n",
    "            tocheck = nextStepNodes\n",
    "            while len(nodeDict.keys()) < len(self._nodes):\n",
    "                tocheck = [i for i in nodeDict if nodeDict[i]==iterator]\n",
    "                for vert in tocheck:\n",
    "                    nextStepNodes = self.getNeighbors(vert.getKey())\n",
    "                    for node in nextStepNodes: \n",
    "                        if node not in nodeDict.keys():\n",
    "                            nodeDict[node] = iterator+1\n",
    "                iterator += 1\n",
    "            return nodeDict\n",
    "        else:\n",
    "            return {}\n",
    "    \n",
    "    def getShortestPaths(self, fromVert):\n",
    "        \"\"\"\n",
    "        Returns string with the length of shortest path to every node from fromVert (Any)\n",
    "        Throws exception if fromVert is not an element of graph\n",
    "        \"\"\"\n",
    "        lines = \"\"\n",
    "        if isinstance(fromVert, Node):\n",
    "            pathsDict = self.getShortestPathDict(fromVert)\n",
    "        elif isinstance(fromVert, int):\n",
    "            if vert := self.findVertexByKey(fromVert):\n",
    "                pathsDict = self.getShortestPathDict(vert)\n",
    "        elif vert := self.findVertexByLabel(fromVert):\n",
    "            pathsDict = self.getShortestPathDict(vert)\n",
    "        else:\n",
    "            raise Exception(f\"Node {fromVert} doesn't exist\")\n",
    "        for key in pathsDict.keys():\n",
    "            lines += key.to_str() + \": \" + str(pathsDict[key]) + \"\\n\"\n",
    "        return lines"
   ]
  },
  {
   "cell_type": "markdown",
   "id": "d552b3f3",
   "metadata": {},
   "source": [
    "#### Examples of usage"
   ]
  },
  {
   "cell_type": "markdown",
   "id": "55f9f861",
   "metadata": {},
   "source": [
    "Not all possible scenarios are presented, but there the most important examples and errors are presented."
   ]
  },
  {
   "cell_type": "code",
   "execution_count": 57,
   "id": "ef2f3777",
   "metadata": {},
   "outputs": [],
   "source": [
    "g = Graph(['Alice', 'Bob'])"
   ]
  },
  {
   "cell_type": "code",
   "execution_count": 58,
   "id": "97e01c3d",
   "metadata": {},
   "outputs": [],
   "source": [
    "g.addVertex(Node('Carl', 3))\n",
    "g.addVertex('David')\n",
    "g.addVerticesFromList(['Frank', Node('Ernst', 6)])"
   ]
  },
  {
   "cell_type": "markdown",
   "id": "040eff68",
   "metadata": {},
   "source": [
    "In the next cell we try to add a node with already existing key, but different label to check that it fails."
   ]
  },
  {
   "cell_type": "code",
   "execution_count": 59,
   "id": "b9d341b0",
   "metadata": {},
   "outputs": [
    {
     "ename": "Exception",
     "evalue": "Node with given key: 6 has different label equal to: Ernst not frank",
     "output_type": "error",
     "traceback": [
      "\u001b[1;31m---------------------------------------------------------------------------\u001b[0m",
      "\u001b[1;31mException\u001b[0m                                 Traceback (most recent call last)",
      "\u001b[1;32m<ipython-input-59-ec7a9ff910ef>\u001b[0m in \u001b[0;36m<module>\u001b[1;34m\u001b[0m\n\u001b[1;32m----> 1\u001b[1;33m \u001b[0mg\u001b[0m\u001b[1;33m.\u001b[0m\u001b[0maddVertex\u001b[0m\u001b[1;33m(\u001b[0m\u001b[0mNode\u001b[0m\u001b[1;33m(\u001b[0m\u001b[1;34m'frank'\u001b[0m\u001b[1;33m,\u001b[0m \u001b[1;36m6\u001b[0m\u001b[1;33m)\u001b[0m\u001b[1;33m)\u001b[0m\u001b[1;33m\u001b[0m\u001b[1;33m\u001b[0m\u001b[0m\n\u001b[0m",
      "\u001b[1;32m<ipython-input-56-1c07bd1bb652>\u001b[0m in \u001b[0;36maddVertex\u001b[1;34m(self, node)\u001b[0m\n\u001b[0;32m     62\u001b[0m         \u001b[1;32mif\u001b[0m \u001b[0misinstance\u001b[0m\u001b[1;33m(\u001b[0m\u001b[0mnode\u001b[0m\u001b[1;33m,\u001b[0m \u001b[0mNode\u001b[0m\u001b[1;33m)\u001b[0m\u001b[1;33m:\u001b[0m\u001b[1;33m\u001b[0m\u001b[1;33m\u001b[0m\u001b[0m\n\u001b[0;32m     63\u001b[0m             \u001b[1;32mif\u001b[0m \u001b[0mnode\u001b[0m\u001b[1;33m.\u001b[0m\u001b[0mgetKey\u001b[0m\u001b[1;33m(\u001b[0m\u001b[1;33m)\u001b[0m \u001b[1;32min\u001b[0m \u001b[0mself\u001b[0m\u001b[1;33m.\u001b[0m\u001b[0m_keys\u001b[0m\u001b[1;33m:\u001b[0m\u001b[1;33m\u001b[0m\u001b[1;33m\u001b[0m\u001b[0m\n\u001b[1;32m---> 64\u001b[1;33m                 \u001b[0mself\u001b[0m\u001b[1;33m.\u001b[0m\u001b[0mcheckKey\u001b[0m\u001b[1;33m(\u001b[0m\u001b[0mnode\u001b[0m\u001b[1;33m)\u001b[0m\u001b[1;33m\u001b[0m\u001b[1;33m\u001b[0m\u001b[0m\n\u001b[0m\u001b[0;32m     65\u001b[0m             \u001b[0mself\u001b[0m\u001b[1;33m.\u001b[0m\u001b[0m_nodes\u001b[0m\u001b[1;33m.\u001b[0m\u001b[0madd\u001b[0m\u001b[1;33m(\u001b[0m\u001b[0mnode\u001b[0m\u001b[1;33m)\u001b[0m\u001b[1;33m\u001b[0m\u001b[1;33m\u001b[0m\u001b[0m\n\u001b[0;32m     66\u001b[0m             \u001b[0mself\u001b[0m\u001b[1;33m.\u001b[0m\u001b[0m_keys\u001b[0m\u001b[1;33m.\u001b[0m\u001b[0madd\u001b[0m\u001b[1;33m(\u001b[0m\u001b[0mnode\u001b[0m\u001b[1;33m.\u001b[0m\u001b[0mgetKey\u001b[0m\u001b[1;33m(\u001b[0m\u001b[1;33m)\u001b[0m\u001b[1;33m)\u001b[0m\u001b[1;33m\u001b[0m\u001b[1;33m\u001b[0m\u001b[0m\n",
      "\u001b[1;32m<ipython-input-56-1c07bd1bb652>\u001b[0m in \u001b[0;36mcheckKey\u001b[1;34m(self, vertex)\u001b[0m\n\u001b[0;32m     36\u001b[0m             \u001b[1;32mif\u001b[0m \u001b[0mvertex\u001b[0m\u001b[1;33m.\u001b[0m\u001b[0mgetKey\u001b[0m\u001b[1;33m(\u001b[0m\u001b[1;33m)\u001b[0m \u001b[1;33m==\u001b[0m \u001b[0mnode\u001b[0m\u001b[1;33m.\u001b[0m\u001b[0mgetKey\u001b[0m\u001b[1;33m(\u001b[0m\u001b[1;33m)\u001b[0m\u001b[1;33m:\u001b[0m\u001b[1;33m\u001b[0m\u001b[1;33m\u001b[0m\u001b[0m\n\u001b[0;32m     37\u001b[0m                 \u001b[1;32mif\u001b[0m \u001b[0mvertex\u001b[0m\u001b[1;33m.\u001b[0m\u001b[0mgetLabel\u001b[0m\u001b[1;33m(\u001b[0m\u001b[1;33m)\u001b[0m \u001b[1;33m!=\u001b[0m \u001b[0mnode\u001b[0m\u001b[1;33m.\u001b[0m\u001b[0mgetLabel\u001b[0m\u001b[1;33m(\u001b[0m\u001b[1;33m)\u001b[0m\u001b[1;33m:\u001b[0m\u001b[1;33m\u001b[0m\u001b[1;33m\u001b[0m\u001b[0m\n\u001b[1;32m---> 38\u001b[1;33m                     \u001b[1;32mraise\u001b[0m \u001b[0mException\u001b[0m\u001b[1;33m(\u001b[0m\u001b[1;34mf\"Node with given key: {str(vertex.getKey())} has different label equal to: {node.getLabel()} not {vertex.getLabel()}\"\u001b[0m\u001b[1;33m)\u001b[0m\u001b[1;33m\u001b[0m\u001b[1;33m\u001b[0m\u001b[0m\n\u001b[0m\u001b[0;32m     39\u001b[0m \u001b[1;33m\u001b[0m\u001b[0m\n\u001b[0;32m     40\u001b[0m     \u001b[1;32mdef\u001b[0m \u001b[0mfindVertexByKey\u001b[0m\u001b[1;33m(\u001b[0m\u001b[0mself\u001b[0m\u001b[1;33m,\u001b[0m \u001b[0mkey\u001b[0m\u001b[1;33m)\u001b[0m\u001b[1;33m:\u001b[0m\u001b[1;33m\u001b[0m\u001b[1;33m\u001b[0m\u001b[0m\n",
      "\u001b[1;31mException\u001b[0m: Node with given key: 6 has different label equal to: Ernst not frank"
     ]
    }
   ],
   "source": [
    "g.addVertex(Node('frank', 6))"
   ]
  },
  {
   "cell_type": "code",
   "execution_count": 60,
   "id": "1028e9d2",
   "metadata": {},
   "outputs": [
    {
     "name": "stdout",
     "output_type": "stream",
     "text": [
      "{Alice, Bob, Carl, David, Frank, Ernst}\n"
     ]
    }
   ],
   "source": [
    "print(g.getVertices())"
   ]
  },
  {
   "cell_type": "code",
   "execution_count": 61,
   "id": "14805390",
   "metadata": {},
   "outputs": [
    {
     "data": {
      "text/plain": [
       "True"
      ]
     },
     "execution_count": 61,
     "metadata": {},
     "output_type": "execute_result"
    }
   ],
   "source": [
    "4 in g"
   ]
  },
  {
   "cell_type": "code",
   "execution_count": 62,
   "id": "0cbbb17c",
   "metadata": {},
   "outputs": [
    {
     "data": {
      "text/plain": [
       "False"
      ]
     },
     "execution_count": 62,
     "metadata": {},
     "output_type": "execute_result"
    }
   ],
   "source": [
    "45 in g"
   ]
  },
  {
   "cell_type": "markdown",
   "id": "c8b44657",
   "metadata": {},
   "source": [
    "For the addEdge() method we need to specify the particular node we want to add the Edge to. If we won't specify the key, algorithm adds new Node and Edge to the graph. "
   ]
  },
  {
   "cell_type": "code",
   "execution_count": 63,
   "id": "e3579cca",
   "metadata": {},
   "outputs": [],
   "source": [
    "g.addEdge(Node('Alice', 1), Node('Bob', 2))\n",
    "g.addEdge(Node('Carl', 3), Node('Alice', 1))\n",
    "g.addEdge(Node('Alice', 1), Node('David', 4))\n",
    "g.addEdge(Node('Alice', 1), Node('Frank', 5))\n",
    "g.addEdge(Node('Alice', 1), Node('Ernst', 6))\n",
    "g.addEdge(Node('Bob', 2), Node('Gail', 7))\n",
    "g.addEdge(Node('Gail', 7), Node('Harry', 8))\n",
    "g.addEdge(Node('Harry', 8), Node('Jen', 9))\n",
    "g.addEdge(Node('Jen', 9), Node('Gail', 7))\n",
    "g.addEdge(Node('Harry', 8), Node('Irene', 10))\n",
    "g.addEdge(Node('Irene', 10), Node('Gail', 7))\n",
    "g.addEdge(Node('Irene', 10), Node('Jen', 9))\n",
    "g.addEdge(Node('Ernst', 6), Node('Frank', 5))"
   ]
  },
  {
   "cell_type": "code",
   "execution_count": 64,
   "id": "eeca3e69",
   "metadata": {},
   "outputs": [],
   "source": [
    "g.addEdgesFromList([Edge(Node('David', 4), Node('Carl', 3)), Edge(Node('Carl', 3), Node('Frank', 5))])"
   ]
  },
  {
   "cell_type": "code",
   "execution_count": 65,
   "id": "3897628e",
   "metadata": {},
   "outputs": [
    {
     "name": "stdout",
     "output_type": "stream",
     "text": [
      "{Alice, Bob, Carl, David, Frank, Ernst, Gail, Harry, Jen, Irene}\n"
     ]
    }
   ],
   "source": [
    "print(g.getVertices())"
   ]
  },
  {
   "cell_type": "code",
   "execution_count": 66,
   "id": "49ba1468",
   "metadata": {},
   "outputs": [
    {
     "name": "stdout",
     "output_type": "stream",
     "text": [
      "[[Alice, Bob, 1]\n",
      ", [Carl, Alice, 1]\n",
      ", [Alice, David, 1]\n",
      ", [Alice, Frank, 1]\n",
      ", [Alice, Ernst, 1]\n",
      ", [Bob, Gail, 1]\n",
      ", [Gail, Harry, 1]\n",
      ", [Harry, Jen, 1]\n",
      ", [Jen, Gail, 1]\n",
      ", [Harry, Irene, 1]\n",
      ", [Irene, Gail, 1]\n",
      ", [Irene, Jen, 1]\n",
      ", [Ernst, Frank, 1]\n",
      ", [David, Carl, 1]\n",
      ", [Carl, Frank, 1]\n",
      "]\n"
     ]
    }
   ],
   "source": [
    "print(g.getEdges())"
   ]
  },
  {
   "cell_type": "markdown",
   "id": "b8f72cff",
   "metadata": {},
   "source": [
    "SaveGraph() method takes one additional argument, with name of the file and graph. Otherwise it will write the dot representation to example_raph.txt (output graph from graphviz on the bottom of the file)."
   ]
  },
  {
   "cell_type": "code",
   "execution_count": 67,
   "id": "2736072f",
   "metadata": {},
   "outputs": [
    {
     "name": "stdout",
     "output_type": "stream",
     "text": [
      "graph example_graph { \n",
      "\t\"Alice, 1\" -- \"Bob, 2\"\n",
      "\t\"Carl, 3\" -- \"Alice, 1\"\n",
      "\t\"Alice, 1\" -- \"David, 4\"\n",
      "\t\"Alice, 1\" -- \"Frank, 5\"\n",
      "\t\"Alice, 1\" -- \"Ernst, 6\"\n",
      "\t\"Bob, 2\" -- \"Gail, 7\"\n",
      "\t\"Gail, 7\" -- \"Harry, 8\"\n",
      "\t\"Harry, 8\" -- \"Jen, 9\"\n",
      "\t\"Jen, 9\" -- \"Gail, 7\"\n",
      "\t\"Harry, 8\" -- \"Irene, 10\"\n",
      "\t\"Irene, 10\" -- \"Gail, 7\"\n",
      "\t\"Irene, 10\" -- \"Jen, 9\"\n",
      "\t\"Ernst, 6\" -- \"Frank, 5\"\n",
      "\t\"David, 4\" -- \"Carl, 3\"\n",
      "\t\"Carl, 3\" -- \"Frank, 5\"\n",
      "}\n"
     ]
    }
   ],
   "source": [
    "print(g.saveGraph())"
   ]
  },
  {
   "cell_type": "markdown",
   "id": "0725e2ee",
   "metadata": {},
   "source": [
    "Takes one argument that has to be na intiger because we only can give a key as argument here "
   ]
  },
  {
   "cell_type": "code",
   "execution_count": 68,
   "id": "13d82d10",
   "metadata": {},
   "outputs": [
    {
     "name": "stdout",
     "output_type": "stream",
     "text": [
      "[Bob, Carl, David, Frank, Ernst]\n"
     ]
    }
   ],
   "source": [
    "print(g.getNeighbors(1))"
   ]
  },
  {
   "cell_type": "markdown",
   "id": "ddf969ef",
   "metadata": {},
   "source": [
    "If the key doesn't exist we get exception thrown."
   ]
  },
  {
   "cell_type": "code",
   "execution_count": 69,
   "id": "ed0cdfb0",
   "metadata": {},
   "outputs": [
    {
     "ename": "Exception",
     "evalue": "Node 12 doesn't exist",
     "output_type": "error",
     "traceback": [
      "\u001b[1;31m---------------------------------------------------------------------------\u001b[0m",
      "\u001b[1;31mException\u001b[0m                                 Traceback (most recent call last)",
      "\u001b[1;32m<ipython-input-69-8cb0d1fe818e>\u001b[0m in \u001b[0;36m<module>\u001b[1;34m\u001b[0m\n\u001b[1;32m----> 1\u001b[1;33m \u001b[0mprint\u001b[0m\u001b[1;33m(\u001b[0m\u001b[0mg\u001b[0m\u001b[1;33m.\u001b[0m\u001b[0mgetNeighbors\u001b[0m\u001b[1;33m(\u001b[0m\u001b[1;36m12\u001b[0m\u001b[1;33m)\u001b[0m\u001b[1;33m)\u001b[0m\u001b[1;33m\u001b[0m\u001b[1;33m\u001b[0m\u001b[0m\n\u001b[0m",
      "\u001b[1;32m<ipython-input-56-1c07bd1bb652>\u001b[0m in \u001b[0;36mgetNeighbors\u001b[1;34m(self, vertKey)\u001b[0m\n\u001b[0;32m    116\u001b[0m         \"\"\"\n\u001b[0;32m    117\u001b[0m         \u001b[1;32mif\u001b[0m \u001b[0mvertKey\u001b[0m \u001b[1;32mnot\u001b[0m \u001b[1;32min\u001b[0m \u001b[0mself\u001b[0m\u001b[1;33m.\u001b[0m\u001b[0m_keys\u001b[0m\u001b[1;33m:\u001b[0m\u001b[1;33m\u001b[0m\u001b[1;33m\u001b[0m\u001b[0m\n\u001b[1;32m--> 118\u001b[1;33m             \u001b[1;32mraise\u001b[0m \u001b[0mException\u001b[0m\u001b[1;33m(\u001b[0m\u001b[1;34mf\"Node {vertKey} doesn't exist\"\u001b[0m\u001b[1;33m)\u001b[0m\u001b[1;33m\u001b[0m\u001b[1;33m\u001b[0m\u001b[0m\n\u001b[0m\u001b[0;32m    119\u001b[0m         \u001b[0mneighbors\u001b[0m \u001b[1;33m=\u001b[0m \u001b[1;33m[\u001b[0m\u001b[1;33m]\u001b[0m\u001b[1;33m\u001b[0m\u001b[1;33m\u001b[0m\u001b[0m\n\u001b[0;32m    120\u001b[0m         \u001b[1;32mfor\u001b[0m \u001b[0medge\u001b[0m \u001b[1;32min\u001b[0m \u001b[0mself\u001b[0m\u001b[1;33m.\u001b[0m\u001b[0m_edges\u001b[0m\u001b[1;33m:\u001b[0m\u001b[1;33m\u001b[0m\u001b[1;33m\u001b[0m\u001b[0m\n",
      "\u001b[1;31mException\u001b[0m: Node 12 doesn't exist"
     ]
    }
   ],
   "source": [
    "print(g.getNeighbors(12))"
   ]
  },
  {
   "cell_type": "markdown",
   "id": "49ca1fe5",
   "metadata": {},
   "source": [
    "Takes a node and returns shortest path to every other node (without taking the weight into count) It can be given as a node, as a node’s key or a label (with a condition that if there are two nodes with the same label, the function will throw an exception)"
   ]
  },
  {
   "cell_type": "code",
   "execution_count": 70,
   "id": "5062fab6",
   "metadata": {},
   "outputs": [
    {
     "name": "stdout",
     "output_type": "stream",
     "text": [
      "Frank, 5: 0\n",
      "Alice, 1: 1\n",
      "Ernst, 6: 1\n",
      "Carl, 3: 1\n",
      "Bob, 2: 2\n",
      "David, 4: 2\n",
      "Gail, 7: 3\n",
      "Harry, 8: 4\n",
      "Jen, 9: 4\n",
      "Irene, 10: 4\n",
      "\n"
     ]
    }
   ],
   "source": [
    "print(g.getShortestPaths(5))"
   ]
  },
  {
   "cell_type": "code",
   "execution_count": 71,
   "id": "6dd335e1",
   "metadata": {},
   "outputs": [
    {
     "name": "stdout",
     "output_type": "stream",
     "text": [
      "Bob, 2: 0\n",
      "Alice, 1: 1\n",
      "Gail, 7: 1\n",
      "Carl, 3: 2\n",
      "David, 4: 2\n",
      "Frank, 5: 2\n",
      "Ernst, 6: 2\n",
      "Harry, 8: 2\n",
      "Jen, 9: 2\n",
      "Irene, 10: 2\n",
      "\n"
     ]
    }
   ],
   "source": [
    "print(g.getShortestPaths(Node('Bob', 2)))"
   ]
  },
  {
   "cell_type": "code",
   "execution_count": 72,
   "id": "dfeb2548",
   "metadata": {},
   "outputs": [
    {
     "name": "stdout",
     "output_type": "stream",
     "text": [
      "graph new_graph { \n",
      "\t\"Alice, 1\" -- \"Bob, 2\"\n",
      "\t\"Carl, 3\" -- \"Alice, 1\"\n",
      "\t\"Alice, 1\" -- \"David, 4\"\n",
      "\t\"Alice, 1\" -- \"Frank, 5\"\n",
      "\t\"Alice, 1\" -- \"Ernst, 6\"\n",
      "\t\"Bob, 2\" -- \"Gail, 7\"\n",
      "\t\"Gail, 7\" -- \"Harry, 8\"\n",
      "\t\"Harry, 8\" -- \"Jen, 9\"\n",
      "\t\"Jen, 9\" -- \"Gail, 7\"\n",
      "\t\"Harry, 8\" -- \"Irene, 10\"\n",
      "\t\"Irene, 10\" -- \"Gail, 7\"\n",
      "\t\"Irene, 10\" -- \"Jen, 9\"\n",
      "\t\"Ernst, 6\" -- \"Frank, 5\"\n",
      "\t\"David, 4\" -- \"Carl, 3\"\n",
      "\t\"Carl, 3\" -- \"Frank, 5\"\n",
      "}\n"
     ]
    }
   ],
   "source": [
    "print(str(g))"
   ]
  },
  {
   "cell_type": "markdown",
   "id": "580018f3",
   "metadata": {},
   "source": [
    "Here is also an example of the situation when we add new node with existing label. After that all vertices are returned to show that now we have two nodes named 'Alice'"
   ]
  },
  {
   "cell_type": "code",
   "execution_count": 73,
   "id": "6dd43fc1",
   "metadata": {},
   "outputs": [],
   "source": [
    "g.addVertex(Node('Alice', 12))"
   ]
  },
  {
   "cell_type": "code",
   "execution_count": 55,
   "id": "66fd524a",
   "metadata": {},
   "outputs": [
    {
     "data": {
      "text/plain": [
       "{Alice, Alice, Bob, Carl, David, Ernst, Frank, Gail, Harry, Irene, Jen}"
      ]
     },
     "execution_count": 55,
     "metadata": {},
     "output_type": "execute_result"
    }
   ],
   "source": [
    "g.getVertices()"
   ]
  },
  {
   "cell_type": "markdown",
   "id": "1ab8dc99",
   "metadata": {},
   "source": [
    "Lastly, here's an image of the output from webgraphviz.com website with dot representation generated in the code"
   ]
  },
  {
   "attachments": {
    "image.png": {
     "image/png": "[encoded data removed]"
    }
   },
   "cell_type": "markdown",
   "id": "8b2e7f50",
   "metadata": {},
   "source": [
    "![image.png](attachment:image.png)"
   ]
  },
  {
   "cell_type": "code",
   "execution_count": null,
   "id": "248239ae",
   "metadata": {},
   "outputs": [],
   "source": []
  }
 ],
 "metadata": {
  "kernelspec": {
   "display_name": "Python 3",
   "language": "python",
   "name": "python3"
  },
  "language_info": {
   "codemirror_mode": {
    "name": "ipython",
    "version": 3
   },
   "file_extension": ".py",
   "mimetype": "text/x-python",
   "name": "python",
   "nbconvert_exporter": "python",
   "pygments_lexer": "ipython3",
   "version": "3.9.5"
  }
 },
 "nbformat": 4,
 "nbformat_minor": 5
}
